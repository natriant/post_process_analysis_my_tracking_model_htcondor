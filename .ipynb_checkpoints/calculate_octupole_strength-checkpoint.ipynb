{
 "cells": [
  {
   "cell_type": "markdown",
   "metadata": {},
   "source": [
    "### Calculate the strength of the octupole, for detuing\n",
    "- The phase advance through an octupole of length L located at s = s0 for each particle of the beam is:\n",
    "\n",
    "\n",
    "\\begin{equation}\n",
    "\\Delta \\phi_x = \\frac{1}{8}k_3 L \\beta_x(s_0)^2 J_x\n",
    "\\end{equation}\n",
    ", where $k_3$ is the integrated strength of the octupole (normalised with the magnetic field, k3 = k3_(not integrated)/ $B \\rho$ )\n",
    "\n",
    "- The tune spread through all the octupoles around a ring \n",
    "\\begin{equation}\n",
    "\\Delta Q_x = \\frac{1}{16 \\pi}\\sum{\\bar{k_3} \\beta_x(s)^2}\n",
    "\\end{equation}\n",
    "\n",
    ", where the summation enumerates the octupoles arounf the ring\n",
    "\n",
    "- We can also write the detuning coefficient as:\n",
    "\\begin{equation}\n",
    "a_{xx} = \\frac{1}{16 \\pi}\\sum{\\bar{k_3} \\beta_x^2}\n",
    "\\end{equation}\n",
    "\n",
    "Therefore the octupole strength $k_3$ is given by the following formula:\n",
    "\\begin{equation}\n",
    "k_{3int}  = \\frac{\\Delta Q_x \\cdot 16 \\pi }{\\beta_x^2(Jx_{max}-Jx_{min})}\n",
    "\\end{equation}\n",
    "\n",
    "\n",
    "- Wolski : p.338\n",
    "(- Secondary not that good link with more details : https://accelconf.web.cern.ch/accelconf/p05/PAPERS/MPPP043.PDF)"
   ]
  },
  {
   "cell_type": "code",
   "execution_count": 4,
   "metadata": {},
   "outputs": [],
   "source": [
    "from math import *\n",
    "import numpy as np"
   ]
  },
  {
   "cell_type": "markdown",
   "metadata": {},
   "source": [
    "### A. Calculate the octupole strength for one value of resulted tune shift\n",
    "- The user should provide the following parameters:\n",
    "    - tune_shift : The resulted total tune shift\n",
    "    - beta_x : The twiss parameter at the location of the octupole\n",
    "    - Jx_max, Jx_min : The maximum and minimum actions respectively of the particles in the distribution. The definition of action that is used here is : $J_x = \\frac{x_N^2 + p_{x_N}^2}{2}$"
   ]
  },
  {
   "cell_type": "code",
   "execution_count": 5,
   "metadata": {},
   "outputs": [],
   "source": [
    "tune_shift = 0.005\n",
    "beta_x = 115.75\n",
    "Jx_max = 3.22*1e-9\n",
    "Jx_min = 0"
   ]
  },
  {
   "cell_type": "code",
   "execution_count": 6,
   "metadata": {},
   "outputs": [],
   "source": [
    "k3_int = (tune_shift*8*pi*2)/(beta_x**2*(Jx_max-Jx_min)) # the factor 2 comes from the definition"
   ]
  },
  {
   "cell_type": "code",
   "execution_count": 10,
   "metadata": {},
   "outputs": [
    {
     "name": "stdout",
     "output_type": "stream",
     "text": [
      "the octupole strenth that results to tune shift 0.005 is 5825.617800598798 [1/m^2]\n"
     ]
    }
   ],
   "source": [
    "print('the octupole strenth that results to tune shift {} is {} [1/m^2]'.format(tune_shift, k3_int))"
   ]
  },
  {
   "cell_type": "markdown",
   "metadata": {},
   "source": [
    "### B. Claculte the octupole strength for a range of resulted tune shifts"
   ]
  },
  {
   "cell_type": "code",
   "execution_count": 13,
   "metadata": {},
   "outputs": [
    {
     "name": "stdout",
     "output_type": "stream",
     "text": [
      "The requested resulted tune shifts are: \n",
      " \n",
      " [0.01       0.01668101 0.02782559 0.04641589 0.07742637 0.12915497\n",
      " 0.21544347 0.35938137 0.59948425 1.        ]\n"
     ]
    }
   ],
   "source": [
    "my_tune_spreads = np.geomspace(1e-2,1, 10) # type: np.array\n",
    "print('The requested resulted tune shifts are: \\n \\n {}'.format(my_tune_spreads))"
   ]
  },
  {
   "cell_type": "code",
   "execution_count": 15,
   "metadata": {},
   "outputs": [
    {
     "name": "stdout",
     "output_type": "stream",
     "text": [
      "The required octupole strengths are (unit : [1/m^2]) \n",
      " \n",
      " [  11651.2356012    19435.4323654    32420.25516944   54080.24506431\n",
      "   90211.28584369  150481.49437736  251018.26160955  418723.69703791\n",
      "  698473.22396733 1165123.56011976]  \n"
     ]
    }
   ],
   "source": [
    "k3_int_list = (my_tune_spreads*8*pi*2)/(beta_x**2*(Jx_max-Jx_min)) # the factor 2 comes from the definition\n",
    "print('The required octupole strengths are (unit : [1/m^2]) \\n \\n {}  '.format(k3_int_list))"
   ]
  },
  {
   "cell_type": "markdown",
   "metadata": {},
   "source": [
    "### C. Calculate how much you should move the workign point when the octupole is uses such as to obtain cimilar tune spread with the beam -beam kick \n",
    "- Qx_init : is the working point when the same study is repeated using bean-beam kick. Only the decimal part is used for the calculations.\n",
    "- The tune shift may need to be added or subtracted from the Qx_init. This depends on the nature of the tune spread. You need to create detuning with ampltitude plot in the presence of beam-beam kcik to find out."
   ]
  },
  {
   "cell_type": "code",
   "execution_count": 19,
   "metadata": {},
   "outputs": [
    {
     "name": "stdout",
     "output_type": "stream",
     "text": [
      "The new working points are : \n",
      " \n",
      " [ 0.77        0.76331899  0.75217441  0.73358411  0.70257363  0.65084503\n",
      "  0.56455653  0.42061863  0.18051575 -0.22      ]\n"
     ]
    }
   ],
   "source": [
    "Qx_init = 0.78\n",
    "new_working_points = Qx_init - my_tune_spreads\n",
    "print('The new working points are : \\n \\n {}'.format(new_working_points))"
   ]
  },
  {
   "cell_type": "markdown",
   "metadata": {},
   "source": [
    "### D. Do the opposite calcualtions. aka Calculate the total tune srpead for a given octupole strength\n",
    "- k3_int: The integrated octupole strength . $k_3 L [1/m^2]$, where L is the length of the octupole magnet."
   ]
  },
  {
   "cell_type": "code",
   "execution_count": 21,
   "metadata": {},
   "outputs": [
    {
     "name": "stdout",
     "output_type": "stream",
     "text": [
      "The total tune spread generated from an octupole with integrated strength 54080.24506431 [1/m^2] is 0.04641588833612743\n"
     ]
    }
   ],
   "source": [
    "k3_int = 54080.24506431 # [1/m^2]\n",
    "tune_shift = k3_int * (beta_x**2*(Jx_max-Jx_min))/(16*pi)\n",
    "print('The total tune spread generated from an octupole with integrated strength {} [1/m^2] is {}'.format(k3_int, tune_shift))"
   ]
  },
  {
   "cell_type": "code",
   "execution_count": null,
   "metadata": {},
   "outputs": [],
   "source": []
  }
 ],
 "metadata": {
  "kernelspec": {
   "display_name": "Python 3",
   "language": "python",
   "name": "python3"
  },
  "language_info": {
   "codemirror_mode": {
    "name": "ipython",
    "version": 3
   },
   "file_extension": ".py",
   "mimetype": "text/x-python",
   "name": "python",
   "nbconvert_exporter": "python",
   "pygments_lexer": "ipython3",
   "version": "3.7.1"
  }
 },
 "nbformat": 4,
 "nbformat_minor": 4
}
