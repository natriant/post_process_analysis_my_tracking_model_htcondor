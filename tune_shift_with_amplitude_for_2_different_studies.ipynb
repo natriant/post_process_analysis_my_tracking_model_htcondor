{
 "cells": [
  {
   "cell_type": "markdown",
   "metadata": {},
   "source": [
    "## This script is used to plot the tune shift with amplitude.\n",
    "- For the tune calculation the NAFF algorithm is used.\n",
    "- Be careful each time to introduce the configuration file you need along with the file that contains the turn by turn data (from /afs)"
   ]
  },
  {
   "cell_type": "code",
   "execution_count": 1,
   "metadata": {},
   "outputs": [],
   "source": [
    "import os\n",
    "import sys\n",
    "import numpy as np\n",
    "from math import *\n",
    "import matplotlib.pyplot as plt\n",
    "import pandas as pd\n",
    "import pickle\n",
    "import NAFFlib as pnf\n",
    "import json"
   ]
  },
  {
   "cell_type": "markdown",
   "metadata": {},
   "source": [
    "### Test that you have acces to the /afs directory where your data are stored\n",
    "If permision denied\n",
    "- $USERNAME@CERN.CH \n",
    "- aklog"
   ]
  },
  {
   "cell_type": "code",
   "execution_count": 2,
   "metadata": {},
   "outputs": [
    {
     "name": "stdout",
     "output_type": "stream",
     "text": [
      "\u001b[0m\u001b[01;34mmy_tracking_model_htcondor\u001b[0m/  \u001b[01;34msimulation_data_2018\u001b[0m/  \u001b[01;34msixdesk\u001b[0m/  \u001b[01;34mworkspaces\u001b[0m/\n"
     ]
    }
   ],
   "source": [
    "ls /afs/cern.ch/work/n/natriant/private"
   ]
  },
  {
   "cell_type": "markdown",
   "metadata": {},
   "source": [
    "### Plotting parameters"
   ]
  },
  {
   "cell_type": "code",
   "execution_count": 3,
   "metadata": {},
   "outputs": [],
   "source": [
    "params = {'legend.fontsize': 12,\n",
    "          'figure.figsize': (8.5, 6.5),\n",
    "          'axes.labelsize': 25,\n",
    "          'axes.titlesize': 25,\n",
    "          'xtick.labelsize': 25,\n",
    "          'ytick.labelsize': 25,\n",
    "          'image.cmap': 'jet',\n",
    "          'lines.linewidth': 1,\n",
    "          'lines.markersize': 5,\n",
    "          'font.family': 'sans-serif'}\n",
    "\n",
    "plt.rc('text', usetex=False)\n",
    "plt.rc('font', family='serif')\n",
    "plt.rcParams.update(params)"
   ]
  },
  {
   "cell_type": "markdown",
   "metadata": {},
   "source": [
    "### Import the parameters of the study"
   ]
  },
  {
   "cell_type": "code",
   "execution_count": 5,
   "metadata": {},
   "outputs": [],
   "source": [
    "data = {}\n",
    "with open('./configuration_files/config_rate_vs_noise.json', \"r\") as read_file:\n",
    "        data = json.load(read_file)\n",
    "my_afs_path = '/afs/cern.ch/work/n/natriant/private/my_tracking_model_htcondor/tracking_data/'"
   ]
  },
  {
   "cell_type": "markdown",
   "metadata": {},
   "source": [
    "### Define the set of parameters of the study"
   ]
  },
  {
   "cell_type": "code",
   "execution_count": 6,
   "metadata": {},
   "outputs": [],
   "source": [
    "Delta_1 = 0.032\n",
    "Delta_2 = 1.0\n",
    "version = 1\n",
    "df_1 = pd.read_pickle(my_afs_path+'Qx62.78_ksi0.005_g0.200_delta{:.3f}_betax115.75_particles15000_turns1000_v{}.pkl'.format(Delta_1, version))\n",
    "df_2 = pd.read_pickle(my_afs_path+'Qx62.78_ksi0.005_g0.200_delta{:.3f}_betax115.75_particles15000_turns1000_v{}.pkl'.format(Delta_2, version))"
   ]
  },
  {
   "cell_type": "markdown",
   "metadata": {},
   "source": [
    "### Tune shift with amplitude\n",
    "- We need to store the data in groups of particles. \n",
    "- In our data frames are in groups of turns"
   ]
  },
  {
   "cell_type": "code",
   "execution_count": 7,
   "metadata": {},
   "outputs": [],
   "source": [
    "x1_data = {}\n",
    "px1_data = {}\n",
    "x2_data = {}\n",
    "px2_data = {}\n",
    "for particle in range(data['study_parameters']['particles']):\n",
    "    x1_data[particle] = []\n",
    "    px1_data[particle] = []\n",
    "    x2_data[particle] = []\n",
    "    px2_data[particle] = []"
   ]
  },
  {
   "cell_type": "code",
   "execution_count": null,
   "metadata": {},
   "outputs": [],
   "source": [
    "for particle in range(data['study_parameters']['particles']):\n",
    "    for turn in range(data['study_parameters']['turns']):\n",
    "        x1_data[particle].append(df_1.at[turn,'x'][particle])\n",
    "        px1_data[particle].append(df_1.at[turn,'px'][particle])\n",
    "        x2_data[particle].append(df_2.at[turn,'x'][particle])\n",
    "        px2_data[particle].append(df_2.at[turn,'px'][particle])"
   ]
  },
  {
   "cell_type": "markdown",
   "metadata": {},
   "source": [
    "### Exclude the particles that are lost, otherwise NAFF crashes."
   ]
  },
  {
   "cell_type": "code",
   "execution_count": 13,
   "metadata": {},
   "outputs": [],
   "source": [
    "lost_particles_1 = []\n",
    "lost_particles_2 = []\n",
    "Qx_list_1 = []\n",
    "Qx_list_2 = []\n",
    "\n",
    "for particle in range(data['study_parameters']['particles']):\n",
    "    if np.isnan(x1_data[particle]).any() or np.isnan(px1_data[particle]).any():\n",
    "        lost_particles_1.append(particle)\n",
    "        print('particle {} lost'.format(particle))\n",
    "    else:        \n",
    "        signal_x_1 = x1_data[particle] # normalise by derivation with beta function\n",
    "        Qx_list_1.append(pnf.get_tune(np.array(signal_x_1)))\n",
    "    \n",
    "    if np.isnan(x2_data[particle]).any() or np.isnan(px2_data[particle]).any():\n",
    "        lost_particles_2.append(particle)\n",
    "        print('particle {} lost'.format(particle))\n",
    "    else:        \n",
    "        signal_x_2 = x2_data[particle] # normalise by derivation with beta function\n",
    "        Qx_list_2.append(pnf.get_tune(np.array(signal_x_2)))  "
   ]
  },
  {
   "cell_type": "markdown",
   "metadata": {},
   "source": [
    "### Use normalised coordiantes\n",
    "\\begin{equation}\n",
    "x_{N} = \\frac{x}{\\sqrt{\\beta(s)}} \\\\\n",
    "px_{N} = px \\cdot \\sqrt{\\beta(s)}\n",
    "\\end{equation}"
   ]
  },
  {
   "cell_type": "markdown",
   "metadata": {},
   "source": [
    "### Calculate initial actions Jx\n",
    "\\begin{equation}\n",
    "J_x = \\frac{x_{N}^2 + px_{N}^2}{2} \n",
    "\\end{equation}"
   ]
  },
  {
   "cell_type": "code",
   "execution_count": 14,
   "metadata": {},
   "outputs": [],
   "source": [
    "flag_initial_actions = False\n",
    "if flag_intial_actions:\n",
    "    x1_norm = df_1.at[0,'x']/sqrt(data['machine_parameters']['beta_x']) # the index 0 corresponds to turn\n",
    "    px1_norm = df_1.at[0,'px']*sqrt(data['machine_parameters']['beta_x'])\n",
    "    Jx_initial_1 = (x1_norm**2 + px1_norm**2)\n",
    "\n",
    "    x2_norm = df_2.at[0,'x']/sqrt(data['machine_parameters']['beta_x']) # the index 0 corresponds to turn\n",
    "    px2_norm = df_2.at[0,'px']*sqrt(data['machine_parameters']['beta_x'])\n",
    "    Jx_initial_2 = (x2_norm**2 + px2_norm**2)"
   ]
  },
  {
   "cell_type": "markdown",
   "metadata": {},
   "source": [
    "### Calculate the avereged actions over turns"
   ]
  },
  {
   "cell_type": "code",
   "execution_count": 15,
   "metadata": {},
   "outputs": [],
   "source": [
    "# the indeces 1, 2 corrsepond to the first and second time integral respectively\n",
    "flag_average_actions = True\n",
    "if flag_average_actions:\n",
    "    Jx_mean_1 = [] # Here you will save the average actions for each particle over the first and last 1000 turns\n",
    "    Jx_data_1 = {}\n",
    "    Jx_mean_2 = [] # Here you will save the average actions for each particle over the first and last 1000 turns\n",
    "    Jx_data_2 = {}\n",
    "    for particle in range(data['study_parameters']['particles']):\n",
    "        Jx_data_1[particle] = []\n",
    "        Jx_data_2[particle] = []\n",
    "\n",
    "        Jx_data_1[particle] = (np.array(x1_data[particle])/sqrt(data['machine_parameters']['beta_x']))**2 + (np.array(px1_data[particle])*sqrt(data['machine_parameters']['beta_x']))**2\n",
    "        Jx_data_2[particle] = (np.array(x2_data[particle])/sqrt(data['machine_parameters']['beta_x']))**2 + (np.array(px2_data[particle])*sqrt(data['machine_parameters']['beta_x']))**2\n",
    "        \n",
    "        \n",
    "        Jx_mean_1.append(np.mean(Jx_data_1[particle]))           \n",
    "        Jx_mean_2.append(np.mean(Jx_data_2[particle]))"
   ]
  },
  {
   "cell_type": "markdown",
   "metadata": {},
   "source": [
    "### Plot tune shift with amplitude"
   ]
  },
  {
   "cell_type": "code",
   "execution_count": 21,
   "metadata": {},
   "outputs": [
    {
     "data": {
      "image/png": "[encoded data removed]",
      "text/plain": [
       "<Figure size 576x504 with 1 Axes>"
      ]
     },
     "metadata": {
      "needs_background": "light"
     },
     "output_type": "display_data"
    }
   ],
   "source": [
    "xi = 0.005\n",
    "g =0.2\n",
    "fig, ax = plt.subplots(1,1,figsize=(8,7))\n",
    "Qx_list_plot_1 = [1-i for i in Qx_list_1]\n",
    "Qx_list_plot_2 = [1-i for i in Qx_list_2]\n",
    "\n",
    "ax.scatter(np.array(Jx_mean_2)*1e9, Qx_list_plot_2, c ='r', label = r'$\\Delta={:.3f}$'.format(Delta_2)) # the index 0 corresponds to turn\n",
    "ax.scatter(np.array(Jx_mean_1)*1e9, Qx_list_plot_1, c ='b', label = r'$\\Delta={:.3f}$'.format(Delta_1)) # the index 0 corresponds to turn\n",
    "\n",
    "ax.set_xlabel('2Jx'+r'$\\cdot 10^{-9}$')\n",
    "ax.set_ylabel('Qx')\n",
    "#ax.set_title(r'$g={:.3f}, \\xi={:.3f}$'.format(data['Feedback']['values_limits']['max'],data['BB']['values_limits']['max'])+'\\n'+'$Q_x={}, turns={}, N_b={}$'.format(data['machine_parameters']['Qx_init'], data['study_parameters']['turns'], data['study_parameters']['particles'] ))\n",
    "ax.set_title(r'$g={:.3f}, \\xi={:.3f}$'.format(g, xi))\n",
    "\n",
    "#ax.set_ylim(0.768, 0.785)\n",
    "plt.tight_layout()\n",
    "plt.grid()\n",
    "plt.legend()\n",
    "savefig = False\n",
    "if savefig:\n",
    "    plt.savefig('./figures/tune_shift_Qx62.78_ksi0.005_g0.200_delta{:.3f}_and{:.3f}_betax115.75_particles15000_turns1000_v{}_cut.png'.format(Delta_1, Delta_2, version))"
   ]
  },
  {
   "cell_type": "code",
   "execution_count": null,
   "metadata": {},
   "outputs": [],
   "source": []
  }
 ],
 "metadata": {
  "kernelspec": {
   "display_name": "Python 3",
   "language": "python",
   "name": "python3"
  },
  "language_info": {
   "codemirror_mode": {
    "name": "ipython",
    "version": 3
   },
   "file_extension": ".py",
   "mimetype": "text/x-python",
   "name": "python",
   "nbconvert_exporter": "python",
   "pygments_lexer": "ipython3",
   "version": "3.7.1"
  }
 },
 "nbformat": 4,
 "nbformat_minor": 4
}
